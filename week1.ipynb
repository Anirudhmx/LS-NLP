{
 "cells": [
  {
   "cell_type": "code",
   "execution_count": 327,
   "id": "4f396c1e",
   "metadata": {},
   "outputs": [],
   "source": [
    "import re\n",
    "import random\n",
    "import numpy as np \n",
    "import pandas as pd\n",
    "import matplotlib.pyplot as plt\n",
    "from nltk.tokenize import word_tokenize\n",
    "from sklearn.naive_bayes import MultinomialNB\n",
    "from sklearn.model_selection import train_test_split\n",
    "from sklearn.preprocessing import LabelEncoder\n",
    "from sklearn.feature_extraction.text import TfidfVectorizer\n",
    "from sklearn.linear_model import LogisticRegression\n",
    "from sklearn.metrics import accuracy_score, precision_score, recall_score, f1_score\n",
    "from sklearn.feature_extraction.text import CountVectorizer\n",
    "import nltk\n"
   ]
  },
  {
   "cell_type": "markdown",
   "id": "9532aa67",
   "metadata": {},
   "source": [
    "## Problem 1"
   ]
  },
  {
   "cell_type": "code",
   "execution_count": 276,
   "id": "63fce022",
   "metadata": {},
   "outputs": [
    {
     "data": {
      "text/plain": [
       "array([[0.60492051, 0.01263023, 0.69282518, 0.15366388],\n",
       "       [0.62932371, 0.50132336, 0.32470633, 0.8347004 ],\n",
       "       [0.67739608, 0.61959801, 0.26212914, 0.38898714],\n",
       "       [0.45911014, 0.47214606, 0.05804298, 0.63545579],\n",
       "       [0.61831964, 0.92400153, 0.65157502, 0.46330121]])"
      ]
     },
     "execution_count": 276,
     "metadata": {},
     "output_type": "execute_result"
    }
   ],
   "source": [
    "x = np.random.rand(5, 4)\n",
    "x"
   ]
  },
  {
   "cell_type": "markdown",
   "id": "44ede1a0",
   "metadata": {},
   "source": [
    "00 01 02 03 \n",
    "l0       13 \n",
    "20       23\n",
    "30       33\n",
    "40 41 42 43 "
   ]
  },
  {
   "cell_type": "code",
   "execution_count": 277,
   "id": "0f6620a6",
   "metadata": {},
   "outputs": [
    {
     "name": "stdout",
     "output_type": "stream",
     "text": [
      "0.1536638849897699\n",
      "0.3247063288249429\n",
      "0.6195980084904766\n",
      "0.4591101373131192\n"
     ]
    }
   ],
   "source": [
    "for i in range(x.shape[1]-1, -1, -1):\n",
    "    print(x[x.shape[1]-i-1][i])"
   ]
  },
  {
   "cell_type": "code",
   "execution_count": 278,
   "id": "2c8437e6",
   "metadata": {},
   "outputs": [
    {
     "name": "stdout",
     "output_type": "stream",
     "text": [
      "0.6928251781022459\n",
      "0.8347004028436625\n",
      "0.677396083434863\n",
      "0.6354557949955619\n",
      "0.9240015307530911\n"
     ]
    }
   ],
   "source": [
    "for i in x:\n",
    "    print(i.max())"
   ]
  },
  {
   "cell_type": "code",
   "execution_count": 279,
   "id": "9e18519f",
   "metadata": {},
   "outputs": [
    {
     "data": {
      "text/plain": [
       "[0.012630225308793541,\n",
       " 0.1536638849897699,\n",
       " 0.3247063288249429,\n",
       " 0.2621291403481769,\n",
       " 0.38898714406459145,\n",
       " 0.4591101373131192,\n",
       " 0.47214605969695256,\n",
       " 0.05804298055795809,\n",
       " 0.4633012095209267]"
      ]
     },
     "execution_count": 279,
     "metadata": {},
     "output_type": "execute_result"
    }
   ],
   "source": [
    "mean = x.mean()\n",
    "x_ = x.flatten()\n",
    "new_array = [i for i in x_ if i<=mean]\n",
    "new_array"
   ]
  },
  {
   "cell_type": "code",
   "execution_count": 280,
   "id": "27cdee02",
   "metadata": {},
   "outputs": [
    {
     "name": "stdout",
     "output_type": "stream",
     "text": [
      "0.6049205050763621\n",
      "0.012630225308793541\n",
      "0.6928251781022459\n",
      "0.1536638849897699\n",
      "0.8347004028436625\n",
      "0.38898714406459145\n",
      "0.6354557949955619\n",
      "0.4633012095209267\n",
      "0.6515750221033428\n",
      "0.9240015307530911\n",
      "0.6183196405542529\n",
      "0.4591101373131192\n",
      "0.677396083434863\n",
      "0.6293237123377735\n"
     ]
    }
   ],
   "source": [
    "def numpy_boundary_traversal(matrix):\n",
    "    size = matrix.shape # 5, 4\n",
    "    for i in range(size[0]+1):\n",
    "        for j in range(size[1]):\n",
    "            if i==0:\n",
    "                print(matrix[i][j])                \n",
    "            if size[0]-1>i>0:\n",
    "                print(matrix[i][size[1]-1])\n",
    "                break\n",
    "            if i==size[0]-1:\n",
    "                print(matrix[i][size[1]-j-1])\n",
    "            if i==size[0] and j<size[1]-1:\n",
    "                print(matrix[i-2-j][0])\n",
    "                   \n",
    "            \n",
    "            \n",
    "numpy_boundary_traversal(x)        "
   ]
  },
  {
   "cell_type": "markdown",
   "id": "de7f1d49",
   "metadata": {},
   "source": [
    "## Problem 2"
   ]
  },
  {
   "cell_type": "code",
   "execution_count": 281,
   "id": "c033ce60",
   "metadata": {},
   "outputs": [
    {
     "data": {
      "text/plain": [
       "array([3.10021079, 3.00960338, 4.2580445 , 0.67112156, 3.00676017,\n",
       "       9.63824728, 1.76927274, 8.25115413, 8.14809175, 4.62169995,\n",
       "       5.65964059, 5.4759456 , 4.09989923, 0.87896327, 4.46457967,\n",
       "       8.40132618, 7.89127596, 6.87598495, 3.94705509, 4.38478338])"
      ]
     },
     "execution_count": 281,
     "metadata": {},
     "output_type": "execute_result"
    }
   ],
   "source": [
    "array = np.random.uniform(0, 10, 20)\n",
    "array"
   ]
  },
  {
   "cell_type": "code",
   "execution_count": 282,
   "id": "631775a7",
   "metadata": {},
   "outputs": [
    {
     "data": {
      "text/plain": [
       "array([3.1 , 3.01, 4.26, 0.67, 3.01, 9.64, 1.77, 8.25, 8.15, 4.62, 5.66,\n",
       "       5.48, 4.1 , 0.88, 4.46, 8.4 , 7.89, 6.88, 3.95, 4.38])"
      ]
     },
     "execution_count": 282,
     "metadata": {},
     "output_type": "execute_result"
    }
   ],
   "source": [
    "rounded_array = np.round(array, 2)\n",
    "rounded_array"
   ]
  },
  {
   "cell_type": "code",
   "execution_count": 283,
   "id": "2c0a249f",
   "metadata": {},
   "outputs": [
    {
     "name": "stdout",
     "output_type": "stream",
     "text": [
      "mean=4.928 \n",
      " max=9.64 \n",
      " min=0.67\n"
     ]
    }
   ],
   "source": [
    "print(f\"mean={rounded_array.mean()} \\n max={rounded_array.max()} \\n min={rounded_array.min()}\")"
   ]
  },
  {
   "cell_type": "code",
   "execution_count": 284,
   "id": "7c4833e4",
   "metadata": {},
   "outputs": [
    {
     "data": {
      "text/plain": [
       "[9.610000000000001,\n",
       " 9.060099999999998,\n",
       " 18.147599999999997,\n",
       " 0.4489000000000001,\n",
       " 9.060099999999998,\n",
       " 9.64,\n",
       " 3.1329000000000002,\n",
       " 8.25,\n",
       " 8.15,\n",
       " 21.3444,\n",
       " 5.66,\n",
       " 5.48,\n",
       " 16.81,\n",
       " 0.7744,\n",
       " 19.8916,\n",
       " 8.4,\n",
       " 7.89,\n",
       " 6.88,\n",
       " 15.602500000000001,\n",
       " 19.1844]"
      ]
     },
     "execution_count": 284,
     "metadata": {},
     "output_type": "execute_result"
    }
   ],
   "source": [
    "new_array = [f**2 if f<5 else f for f in rounded_array]\n",
    "new_array"
   ]
  },
  {
   "cell_type": "code",
   "execution_count": 285,
   "id": "070c42cd",
   "metadata": {},
   "outputs": [
    {
     "data": {
      "text/plain": [
       "array([0.67, 9.64, 0.88, 8.4 , 1.77, 8.25, 3.01, 8.15, 3.1 , 7.89, 3.95,\n",
       "       6.88, 4.1 , 5.66, 4.26, 5.48, 4.38, 4.62, 4.46, 4.46])"
      ]
     },
     "execution_count": 285,
     "metadata": {},
     "output_type": "execute_result"
    }
   ],
   "source": [
    "def numpy_alternate_sort(array):\n",
    "    list= []\n",
    "    while np.size(array)>0:\n",
    "        min = array.min()\n",
    "        max = array.max()\n",
    "        list.append(min)\n",
    "        list.append(max)\n",
    "        array = array[array!=min]\n",
    "        array = array[array!=max]\n",
    "    return np.array(list)\n",
    "\n",
    "numpy_alternate_sort(rounded_array)"
   ]
  },
  {
   "cell_type": "code",
   "execution_count": 286,
   "id": "d67d7822",
   "metadata": {},
   "outputs": [
    {
     "data": {
      "text/plain": [
       "array([3.1 , 3.01, 4.26, 0.67, 3.01, 9.64, 1.77, 8.25, 8.15, 4.62, 5.66,\n",
       "       5.48, 4.1 , 0.88, 4.46, 8.4 , 7.89, 6.88, 3.95, 4.38])"
      ]
     },
     "execution_count": 286,
     "metadata": {},
     "output_type": "execute_result"
    }
   ],
   "source": [
    "rounded_array"
   ]
  },
  {
   "cell_type": "markdown",
   "id": "21c84f12",
   "metadata": {},
   "source": [
    "## Problem 3"
   ]
  },
  {
   "cell_type": "code",
   "execution_count": 287,
   "id": "c1176640",
   "metadata": {},
   "outputs": [],
   "source": [
    "df = pd.DataFrame(columns=[\"Name\", \"Subject\", \"Score\", \"Grade\"])"
   ]
  },
  {
   "cell_type": "code",
   "execution_count": 288,
   "id": "efc1887f",
   "metadata": {},
   "outputs": [],
   "source": [
    "df[\"Name\"] = [1, 2, 3, 4, 5, 1, 2, 3, 4, 5]\n",
    "df['Subject'] = \"Math\"\n",
    "df['Score'] = np.array([random.randint(50, 100) for _ in range(10)])"
   ]
  },
  {
   "cell_type": "code",
   "execution_count": 289,
   "id": "9c90245d",
   "metadata": {},
   "outputs": [],
   "source": [
    "def grading(num):\n",
    "    if num<60: return \"F\"\n",
    "    elif num<70: return \"D\"\n",
    "    elif num<80: return \"C\"\n",
    "    elif num<90: return \"B\"\n",
    "    else: return \"A\"\n",
    "\n",
    "df[\"Grade\"] = [grading(i) for i in df[\"Score\"]]"
   ]
  },
  {
   "cell_type": "code",
   "execution_count": 290,
   "id": "3561c9c7",
   "metadata": {},
   "outputs": [
    {
     "data": {
      "text/plain": [
       "76.2"
      ]
     },
     "execution_count": 290,
     "metadata": {},
     "output_type": "execute_result"
    }
   ],
   "source": [
    "# since I 've chosen only one subject\n",
    "mean = np.mean(df[df[\"Subject\"]==\"Math\"][\"Score\"])\n",
    "mean"
   ]
  },
  {
   "cell_type": "code",
   "execution_count": 291,
   "id": "8194ca6d",
   "metadata": {},
   "outputs": [
    {
     "data": {
      "text/html": [
       "<div>\n",
       "<style scoped>\n",
       "    .dataframe tbody tr th:only-of-type {\n",
       "        vertical-align: middle;\n",
       "    }\n",
       "\n",
       "    .dataframe tbody tr th {\n",
       "        vertical-align: top;\n",
       "    }\n",
       "\n",
       "    .dataframe thead th {\n",
       "        text-align: right;\n",
       "    }\n",
       "</style>\n",
       "<table border=\"1\" class=\"dataframe\">\n",
       "  <thead>\n",
       "    <tr style=\"text-align: right;\">\n",
       "      <th></th>\n",
       "      <th>Name</th>\n",
       "      <th>Subject</th>\n",
       "      <th>Score</th>\n",
       "      <th>Grade</th>\n",
       "    </tr>\n",
       "  </thead>\n",
       "  <tbody>\n",
       "    <tr>\n",
       "      <th>0</th>\n",
       "      <td>1</td>\n",
       "      <td>Math</td>\n",
       "      <td>81</td>\n",
       "      <td>B</td>\n",
       "    </tr>\n",
       "    <tr>\n",
       "      <th>3</th>\n",
       "      <td>4</td>\n",
       "      <td>Math</td>\n",
       "      <td>83</td>\n",
       "      <td>B</td>\n",
       "    </tr>\n",
       "    <tr>\n",
       "      <th>4</th>\n",
       "      <td>5</td>\n",
       "      <td>Math</td>\n",
       "      <td>83</td>\n",
       "      <td>B</td>\n",
       "    </tr>\n",
       "    <tr>\n",
       "      <th>6</th>\n",
       "      <td>2</td>\n",
       "      <td>Math</td>\n",
       "      <td>90</td>\n",
       "      <td>A</td>\n",
       "    </tr>\n",
       "    <tr>\n",
       "      <th>8</th>\n",
       "      <td>4</td>\n",
       "      <td>Math</td>\n",
       "      <td>95</td>\n",
       "      <td>A</td>\n",
       "    </tr>\n",
       "  </tbody>\n",
       "</table>\n",
       "</div>"
      ],
      "text/plain": [
       "   Name Subject  Score Grade\n",
       "0     1    Math     81     B\n",
       "3     4    Math     83     B\n",
       "4     5    Math     83     B\n",
       "6     2    Math     90     A\n",
       "8     4    Math     95     A"
      ]
     },
     "execution_count": 291,
     "metadata": {},
     "output_type": "execute_result"
    }
   ],
   "source": [
    "def pandas_filter_pass(df):\n",
    "    return df[df[\"Score\"]>=80]\n",
    "\n",
    "df1 = pandas_filter_pass(df)\n",
    "df1"
   ]
  },
  {
   "cell_type": "markdown",
   "id": "1d71dc59",
   "metadata": {},
   "source": [
    "## Problem 4\n"
   ]
  },
  {
   "cell_type": "code",
   "execution_count": 292,
   "id": "b218c794",
   "metadata": {},
   "outputs": [],
   "source": [
    "data  = pd.read_csv(\"IMDB Dataset.csv\")\n",
    "data_= data.sample(100)"
   ]
  },
  {
   "cell_type": "code",
   "execution_count": 293,
   "id": "11088943",
   "metadata": {},
   "outputs": [
    {
     "data": {
      "text/html": [
       "<div>\n",
       "<style scoped>\n",
       "    .dataframe tbody tr th:only-of-type {\n",
       "        vertical-align: middle;\n",
       "    }\n",
       "\n",
       "    .dataframe tbody tr th {\n",
       "        vertical-align: top;\n",
       "    }\n",
       "\n",
       "    .dataframe thead th {\n",
       "        text-align: right;\n",
       "    }\n",
       "</style>\n",
       "<table border=\"1\" class=\"dataframe\">\n",
       "  <thead>\n",
       "    <tr style=\"text-align: right;\">\n",
       "      <th></th>\n",
       "      <th>review</th>\n",
       "      <th>sentiment</th>\n",
       "    </tr>\n",
       "  </thead>\n",
       "  <tbody>\n",
       "    <tr>\n",
       "      <th>12255</th>\n",
       "      <td>This movie has got to be the worse movie i hav...</td>\n",
       "      <td>negative</td>\n",
       "    </tr>\n",
       "    <tr>\n",
       "      <th>38993</th>\n",
       "      <td>I read about this movie in a magazine and I wa...</td>\n",
       "      <td>negative</td>\n",
       "    </tr>\n",
       "    <tr>\n",
       "      <th>27190</th>\n",
       "      <td>So there's an old security guard and a guy who...</td>\n",
       "      <td>negative</td>\n",
       "    </tr>\n",
       "    <tr>\n",
       "      <th>17255</th>\n",
       "      <td>The film attempts to be a mockumentary--shot i...</td>\n",
       "      <td>negative</td>\n",
       "    </tr>\n",
       "    <tr>\n",
       "      <th>1372</th>\n",
       "      <td>Walter Matthau and George Burns just work so w...</td>\n",
       "      <td>positive</td>\n",
       "    </tr>\n",
       "  </tbody>\n",
       "</table>\n",
       "</div>"
      ],
      "text/plain": [
       "                                                  review sentiment\n",
       "12255  This movie has got to be the worse movie i hav...  negative\n",
       "38993  I read about this movie in a magazine and I wa...  negative\n",
       "27190  So there's an old security guard and a guy who...  negative\n",
       "17255  The film attempts to be a mockumentary--shot i...  negative\n",
       "1372   Walter Matthau and George Burns just work so w...  positive"
      ]
     },
     "execution_count": 293,
     "metadata": {},
     "output_type": "execute_result"
    }
   ],
   "source": [
    "data_.head(5)"
   ]
  },
  {
   "cell_type": "code",
   "execution_count": 302,
   "id": "415b67c4",
   "metadata": {},
   "outputs": [],
   "source": [
    "encode = LabelEncoder()\n",
    "Y = encode.fit_transform(data_['sentiment'])\n",
    "vect = CountVectorizer(max_features=500, stop_words=\"english\")\n",
    "X = vect.fit_transform(data_['review'])\n"
   ]
  },
  {
   "cell_type": "code",
   "execution_count": 303,
   "id": "537fdec1",
   "metadata": {},
   "outputs": [],
   "source": [
    "x_train, x_test, y_train, y_test = train_test_split(X, Y, test_size = 0.2, random_state=69)"
   ]
  },
  {
   "cell_type": "code",
   "execution_count": 304,
   "id": "4009d7a8",
   "metadata": {},
   "outputs": [],
   "source": [
    "nb_model = MultinomialNB()\n",
    "nb_model.fit(x_train, y_train)\n",
    "y_pred = nb_model.predict(x_test)\n"
   ]
  },
  {
   "cell_type": "code",
   "execution_count": 305,
   "id": "2f6cebd8",
   "metadata": {},
   "outputs": [],
   "source": [
    "acc = accuracy_score(y_test, y_pred)\n",
    "precision = precision_score(y_test, y_pred)\n",
    "recall = recall_score(y_test, y_pred)\n",
    "f1 = f1_score(y_test, y_pred)"
   ]
  },
  {
   "cell_type": "code",
   "execution_count": 306,
   "id": "3e3a5a57",
   "metadata": {},
   "outputs": [
    {
     "name": "stdout",
     "output_type": "stream",
     "text": [
      "accuracy:0.75\n",
      "precision:0.8333333333333334\n",
      "recall:0.5555555555555556\n",
      "f1_score:0.6666666666666667\n"
     ]
    }
   ],
   "source": [
    "print(f\"accuracy:{acc}\\nprecision:{precision}\\nrecall:{recall}\\nf1_score:{f1}\")"
   ]
  },
  {
   "cell_type": "code",
   "execution_count": null,
   "id": "c1b4e21f",
   "metadata": {},
   "outputs": [],
   "source": [
    "model1 = MultinomialNB()\n",
    "encoder = LabelEncoder()\n",
    "vectorizer = CountVectorizer(max_features=500, stop_words='english')\n",
    "model1.fit(vectorizer.fit_transform(data['review']), encoder.fit_transform(data['sentiment']))\n",
    "\n",
    "def predict_review_sentiment(model, vectorizer, review):\n",
    "    txt_vect = vectorizer.transform(review)\n",
    "    return model.predict(txt_vect)    "
   ]
  },
  {
   "cell_type": "code",
   "execution_count": null,
   "id": "22b5be47",
   "metadata": {},
   "outputs": [
    {
     "data": {
      "text/plain": [
       "array([0])"
      ]
     },
     "execution_count": 311,
     "metadata": {},
     "output_type": "execute_result"
    }
   ],
   "source": [
    "rev = \"I watched Housefull 5, and it’s pure chaos—loud jokes, random twists, and over-the-top madness. Akshay Kumar saves it with his comic timing, and Nana Patekar’s entry is the highlight. It’s fun if you like silly, brain-off comedies, but honestly, it left me more tired than entertained\"\n",
    "pred = predict_review_sentiment(model1, vectorizer, [rev])\n",
    "pred "
   ]
  },
  {
   "cell_type": "markdown",
   "id": "126c2c82",
   "metadata": {},
   "source": [
    "## Problem 5\n"
   ]
  },
  {
   "cell_type": "code",
   "execution_count": 314,
   "id": "855fa3c0",
   "metadata": {},
   "outputs": [],
   "source": [
    "feedback_data = pd.read_csv(\"amazon_alexa.tsv\", sep='\\t')"
   ]
  },
  {
   "cell_type": "code",
   "execution_count": 331,
   "id": "a10df997",
   "metadata": {},
   "outputs": [],
   "source": [
    "data1 = feedback_data[['feedback', 'verified_reviews']]\n",
    "data1 = data1.dropna()"
   ]
  },
  {
   "cell_type": "code",
   "execution_count": 332,
   "id": "6323c709",
   "metadata": {},
   "outputs": [],
   "source": [
    "tfidf = TfidfVectorizer(stop_words='english', max_features=300, lowercase=True)\n",
    "text_data = tfidf.fit_transform(data1['verified_reviews'])\n",
    "x_tr, x_ts, y_tr, y_ts = train_test_split(text_data, data1['feedback'], test_size=.25, random_state=6)\n",
    "\n",
    "classifier = LogisticRegression()\n",
    "classifier.fit(x_tr, y_tr)\n",
    "y_pred1=classifier.predict(x_ts)"
   ]
  },
  {
   "cell_type": "code",
   "execution_count": 333,
   "id": "a2636b4f",
   "metadata": {},
   "outputs": [
    {
     "name": "stdout",
     "output_type": "stream",
     "text": [
      "accuracy:0.9098984771573604\n",
      "precision:0.9097839898348158\n",
      "recall:1.0\n",
      "f1_score:0.9527611443779108\n"
     ]
    }
   ],
   "source": [
    "acc = accuracy_score(y_ts, y_pred1)\n",
    "precision = precision_score(y_ts, y_pred1)\n",
    "recall = recall_score(y_ts, y_pred1)\n",
    "f1 = f1_score(y_ts, y_pred1)\n",
    "print(f\"accuracy:{acc}\\nprecision:{precision}\\nrecall:{recall}\\nf1_score:{f1}\")"
   ]
  },
  {
   "cell_type": "code",
   "execution_count": 338,
   "id": "70f9c5fb",
   "metadata": {},
   "outputs": [],
   "source": [
    "def text_preprocess_vectorize(texts, vectorizer):\n",
    "    '''\n",
    "    texts: list of text samples\n",
    "    '''\n",
    "    vect = vectorizer.transform(texts)\n",
    "    return vect.toarray()"
   ]
  },
  {
   "cell_type": "code",
   "execution_count": 340,
   "id": "fac03e3c",
   "metadata": {},
   "outputs": [
    {
     "data": {
      "text/plain": [
       "array([[0.        , 0.        , 0.        , 0.        , 0.        ,\n",
       "        0.        , 0.        , 0.        , 0.        , 0.        ,\n",
       "        0.        , 0.        , 0.        , 0.5002581 , 0.        ,\n",
       "        0.        , 0.        , 0.        , 0.        , 0.        ,\n",
       "        0.        , 0.        , 0.        , 0.        , 0.        ,\n",
       "        0.        , 0.        , 0.        , 0.        , 0.        ,\n",
       "        0.        , 0.        , 0.        , 0.        , 0.        ,\n",
       "        0.        , 0.        , 0.        , 0.        , 0.        ,\n",
       "        0.        , 0.        , 0.        , 0.        , 0.        ,\n",
       "        0.        , 0.        , 0.        , 0.        , 0.        ,\n",
       "        0.        , 0.        , 0.        , 0.        , 0.        ,\n",
       "        0.        , 0.        , 0.        , 0.        , 0.        ,\n",
       "        0.        , 0.        , 0.        , 0.        , 0.        ,\n",
       "        0.        , 0.        , 0.        , 0.        , 0.        ,\n",
       "        0.        , 0.        , 0.        , 0.        , 0.        ,\n",
       "        0.        , 0.        , 0.        , 0.        , 0.        ,\n",
       "        0.        , 0.        , 0.        , 0.        , 0.        ,\n",
       "        0.        , 0.        , 0.        , 0.        , 0.        ,\n",
       "        0.        , 0.        , 0.        , 0.        , 0.        ,\n",
       "        0.        , 0.        , 0.        , 0.        , 0.        ,\n",
       "        0.        , 0.        , 0.        , 0.        , 0.        ,\n",
       "        0.        , 0.        , 0.        , 0.        , 0.44636791,\n",
       "        0.        , 0.        , 0.        , 0.        , 0.        ,\n",
       "        0.        , 0.        , 0.        , 0.        , 0.        ,\n",
       "        0.        , 0.        , 0.        , 0.        , 0.        ,\n",
       "        0.        , 0.        , 0.        , 0.        , 0.        ,\n",
       "        0.        , 0.        , 0.        , 0.        , 0.        ,\n",
       "        0.        , 0.        , 0.        , 0.        , 0.        ,\n",
       "        0.        , 0.        , 0.        , 0.        , 0.        ,\n",
       "        0.        , 0.        , 0.        , 0.        , 0.        ,\n",
       "        0.        , 0.        , 0.        , 0.        , 0.        ,\n",
       "        0.        , 0.40693241, 0.        , 0.        , 0.        ,\n",
       "        0.        , 0.        , 0.        , 0.        , 0.        ,\n",
       "        0.        , 0.        , 0.        , 0.        , 0.        ,\n",
       "        0.        , 0.        , 0.        , 0.        , 0.        ,\n",
       "        0.        , 0.        , 0.        , 0.        , 0.        ,\n",
       "        0.        , 0.        , 0.        , 0.        , 0.        ,\n",
       "        0.        , 0.        , 0.        , 0.        , 0.        ,\n",
       "        0.        , 0.        , 0.        , 0.        , 0.        ,\n",
       "        0.        , 0.62040595, 0.        , 0.        , 0.        ,\n",
       "        0.        , 0.        , 0.        , 0.        , 0.        ,\n",
       "        0.        , 0.        , 0.        , 0.        , 0.        ,\n",
       "        0.        , 0.        , 0.        , 0.        , 0.        ,\n",
       "        0.        , 0.        , 0.        , 0.        , 0.        ,\n",
       "        0.        , 0.        , 0.        , 0.        , 0.        ,\n",
       "        0.        , 0.        , 0.        , 0.        , 0.        ,\n",
       "        0.        , 0.        , 0.        , 0.        , 0.        ,\n",
       "        0.        , 0.        , 0.        , 0.        , 0.        ,\n",
       "        0.        , 0.        , 0.        , 0.        , 0.        ,\n",
       "        0.        , 0.        , 0.        , 0.        , 0.        ,\n",
       "        0.        , 0.        , 0.        , 0.        , 0.        ,\n",
       "        0.        , 0.        , 0.        , 0.        , 0.        ,\n",
       "        0.        , 0.        , 0.        , 0.        , 0.        ,\n",
       "        0.        , 0.        , 0.        , 0.        , 0.        ,\n",
       "        0.        , 0.        , 0.        , 0.        , 0.        ,\n",
       "        0.        , 0.        , 0.        , 0.        , 0.        ,\n",
       "        0.        , 0.        , 0.        , 0.        , 0.        ,\n",
       "        0.        , 0.        , 0.        , 0.        , 0.        ,\n",
       "        0.        , 0.        , 0.        , 0.        , 0.        ,\n",
       "        0.        , 0.        , 0.        , 0.        , 0.        ],\n",
       "       [0.        , 0.        , 0.        , 0.        , 0.        ,\n",
       "        0.        , 0.        , 0.        , 0.        , 0.        ,\n",
       "        0.        , 0.        , 0.        , 0.        , 0.        ,\n",
       "        0.        , 0.        , 0.        , 0.        , 0.        ,\n",
       "        0.        , 0.        , 0.        , 0.        , 0.        ,\n",
       "        0.        , 0.        , 0.        , 0.        , 0.        ,\n",
       "        0.        , 0.        , 0.        , 0.        , 0.        ,\n",
       "        0.        , 0.        , 0.        , 0.        , 0.        ,\n",
       "        0.        , 0.        , 0.        , 0.        , 0.        ,\n",
       "        0.        , 0.        , 0.        , 0.        , 0.        ,\n",
       "        0.        , 0.        , 0.        , 0.        , 0.        ,\n",
       "        0.        , 0.        , 0.        , 0.        , 0.        ,\n",
       "        0.        , 0.        , 0.        , 0.        , 0.        ,\n",
       "        0.        , 0.        , 0.        , 0.        , 0.        ,\n",
       "        0.        , 0.        , 0.        , 0.        , 0.        ,\n",
       "        0.        , 0.        , 0.        , 0.        , 0.        ,\n",
       "        0.        , 0.        , 0.        , 0.        , 0.        ,\n",
       "        0.        , 0.        , 0.        , 0.        , 0.        ,\n",
       "        0.        , 0.        , 0.        , 0.        , 0.        ,\n",
       "        0.        , 0.        , 0.        , 0.        , 0.        ,\n",
       "        0.        , 0.        , 0.        , 0.        , 0.        ,\n",
       "        0.        , 0.        , 0.        , 0.        , 0.        ,\n",
       "        0.        , 0.        , 0.        , 0.        , 0.        ,\n",
       "        0.        , 0.        , 0.        , 0.        , 0.        ,\n",
       "        0.        , 0.        , 0.        , 0.        , 0.        ,\n",
       "        0.        , 0.        , 0.        , 0.        , 0.        ,\n",
       "        0.        , 0.        , 0.        , 0.        , 0.        ,\n",
       "        0.        , 0.        , 0.        , 0.        , 0.        ,\n",
       "        0.        , 0.        , 0.        , 0.        , 0.        ,\n",
       "        0.        , 0.        , 0.        , 0.        , 0.        ,\n",
       "        0.        , 0.        , 0.        , 0.        , 0.        ,\n",
       "        0.        , 0.        , 0.        , 0.        , 0.        ,\n",
       "        0.        , 0.        , 0.        , 0.        , 0.        ,\n",
       "        0.        , 0.        , 0.        , 0.        , 0.        ,\n",
       "        0.        , 0.        , 0.        , 0.        , 0.        ,\n",
       "        0.        , 0.        , 0.        , 0.        , 0.        ,\n",
       "        0.        , 0.        , 0.        , 0.        , 0.        ,\n",
       "        0.        , 0.        , 0.        , 0.        , 0.        ,\n",
       "        0.        , 0.        , 0.        , 0.        , 0.        ,\n",
       "        0.        , 1.        , 0.        , 0.        , 0.        ,\n",
       "        0.        , 0.        , 0.        , 0.        , 0.        ,\n",
       "        0.        , 0.        , 0.        , 0.        , 0.        ,\n",
       "        0.        , 0.        , 0.        , 0.        , 0.        ,\n",
       "        0.        , 0.        , 0.        , 0.        , 0.        ,\n",
       "        0.        , 0.        , 0.        , 0.        , 0.        ,\n",
       "        0.        , 0.        , 0.        , 0.        , 0.        ,\n",
       "        0.        , 0.        , 0.        , 0.        , 0.        ,\n",
       "        0.        , 0.        , 0.        , 0.        , 0.        ,\n",
       "        0.        , 0.        , 0.        , 0.        , 0.        ,\n",
       "        0.        , 0.        , 0.        , 0.        , 0.        ,\n",
       "        0.        , 0.        , 0.        , 0.        , 0.        ,\n",
       "        0.        , 0.        , 0.        , 0.        , 0.        ,\n",
       "        0.        , 0.        , 0.        , 0.        , 0.        ,\n",
       "        0.        , 0.        , 0.        , 0.        , 0.        ,\n",
       "        0.        , 0.        , 0.        , 0.        , 0.        ,\n",
       "        0.        , 0.        , 0.        , 0.        , 0.        ,\n",
       "        0.        , 0.        , 0.        , 0.        , 0.        ,\n",
       "        0.        , 0.        , 0.        , 0.        , 0.        ,\n",
       "        0.        , 0.        , 0.        , 0.        , 0.        ,\n",
       "        0.        , 0.        , 0.        , 0.        , 0.        ]])"
      ]
     },
     "execution_count": 340,
     "metadata": {},
     "output_type": "execute_result"
    }
   ],
   "source": [
    "text_preprocess_vectorize(['I love alexa, it is a great product', 'worst product I coulf have brought'], tfidf)"
   ]
  }
 ],
 "metadata": {
  "kernelspec": {
   "display_name": "base",
   "language": "python",
   "name": "python3"
  },
  "language_info": {
   "codemirror_mode": {
    "name": "ipython",
    "version": 3
   },
   "file_extension": ".py",
   "mimetype": "text/x-python",
   "name": "python",
   "nbconvert_exporter": "python",
   "pygments_lexer": "ipython3",
   "version": "3.11.7"
  }
 },
 "nbformat": 4,
 "nbformat_minor": 5
}
